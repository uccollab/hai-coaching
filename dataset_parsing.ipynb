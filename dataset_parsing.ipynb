{
 "cells": [
  {
   "cell_type": "markdown",
   "id": "fe2755c1",
   "metadata": {},
   "source": [
    "<h1>NOTE!</h1>\n",
    "This notebook shows how to read the <b>MERGED</b> dataset. That is, all the annotations are in a single sheet. If you're using the IAA or individual one separately, use the other notebook."
   ]
  },
  {
   "cell_type": "markdown",
   "id": "7a227215",
   "metadata": {},
   "source": [
    "<h1>Working with the dataset</h1>\n",
    "Use the following code to load the dataset (stored in Excel files). It contains a sheet with all struggles, demographics, annotations, and annotators info.\n",
    "\n",
    "<b>Note:</b> every field of the resulting dataframes containing lists has been formatted with a custom \"###\" separator. This is because normal separators (.,/;: etc.) have been used by the crowdworkers when writing the struggles."
   ]
  },
  {
   "cell_type": "code",
   "execution_count": 1,
   "id": "d62315fa",
   "metadata": {},
   "outputs": [],
   "source": [
    "import pandas as pd\n",
    "import itertools"
   ]
  },
  {
   "cell_type": "code",
   "execution_count": 2,
   "id": "76c68bbe",
   "metadata": {},
   "outputs": [],
   "source": [
    "dataset_path = '/path/to/dataset.xlsx'"
   ]
  },
  {
   "cell_type": "code",
   "execution_count": 3,
   "id": "1f0f7420",
   "metadata": {
    "scrolled": true
   },
   "outputs": [],
   "source": [
    "#reading the dataset from Excel files\n",
    "dataset = pd.read_excel(dataset_path, sheet_name = 'DATASET', keep_default_na=False)"
   ]
  },
  {
   "cell_type": "code",
   "execution_count": 4,
   "id": "c25a5f7a",
   "metadata": {},
   "outputs": [],
   "source": [
    "# splitting lists with ### separator\n",
    "for col in dataset.columns:\n",
    "    if type(dataset[col][0]) == str:\n",
    "        if dataset[col].str.contains(\" ### \").any():\n",
    "            new_col = dataset[col].str.split(\" ### \")\n",
    "            dataset[col] = new_col"
   ]
  },
  {
   "cell_type": "markdown",
   "id": "241011df",
   "metadata": {},
   "source": [
    "<h3>Playing a bit with the dataset</h3>"
   ]
  },
  {
   "cell_type": "code",
   "execution_count": 5,
   "id": "2b6c068d",
   "metadata": {},
   "outputs": [
    {
     "data": {
      "text/plain": [
       "0       When dieting I often find it hard to track my ...\n",
       "1       Saying no to alcohol in social settings. I usu...\n",
       "2       Healthy food is expensive and earning a middle...\n",
       "3       Working out is hard for me because I'm used to...\n",
       "4       When I see pizza I always want to buy and I en...\n",
       "                              ...                        \n",
       "2415    I love eating chocolate in almost every form. ...\n",
       "2416    When I am about to have my cycle I struggle to...\n",
       "2417    When I'm around strangers I am getting very se...\n",
       "2418    I can’t seem to stick with a routine and have ...\n",
       "2419    I hate cooking and never have the patience to ...\n",
       "Name: struggle, Length: 2420, dtype: object"
      ]
     },
     "execution_count": 5,
     "metadata": {},
     "output_type": "execute_result"
    }
   ],
   "source": [
    "#accessing all struggles\n",
    "dataset['struggle']"
   ]
  },
  {
   "cell_type": "code",
   "execution_count": 6,
   "id": "10fe11e9",
   "metadata": {},
   "outputs": [
    {
     "data": {
      "text/plain": [
       "'When dieting I often find it hard to track my calories. This is because of the fact that not many food packages include this information and trying to track every calorie is a tedious task. It also does not help when trying to maintain a calorie surplus as all calories need to be tracked.'"
      ]
     },
     "execution_count": 6,
     "metadata": {},
     "output_type": "execute_result"
    }
   ],
   "source": [
    "#accessing the FIRST struggle the FIRST annotator worked with\n",
    "ann1 = dataset[dataset['annotator']=='1']\n",
    "ann1['struggle'][0]"
   ]
  },
  {
   "cell_type": "code",
   "execution_count": 7,
   "id": "43163acc",
   "metadata": {
    "scrolled": true
   },
   "outputs": [
    {
     "name": "stdout",
     "output_type": "stream",
     "text": [
      "- So, do you mean that tracking your calorie intake is difficult because food packaging does not always have the information?\n",
      "\n",
      "- So, are you saying that it can be tedious to track every calorie consumed?\n",
      "\n",
      "- So, do you mean that you find it challenging to maintain a calorie surplus while dieting?\n",
      "\n",
      "- So, do you mean that tracking calories is important to you while dieting?\n",
      "\n",
      "- So, do you mean that the lack of calorie information on food packaging makes it hard for you to track your intake?\n",
      "\n",
      "- Do you mean that trying to track every calorie consumed is a tedious task?\n",
      "\n",
      "- Are you saying that it is difficult to maintain a calorie surplus while dieting because of the effort required to track calories?\n",
      "\n",
      "- Do you mean that you find it difficult to track your calorie intake due to the lack of information on food packaging?\n",
      "\n",
      "- Do you mean that the effort required to track every calorie consumed can make dieting more difficult?\n",
      "\n",
      "-  So, do you mean that the lack of calorie information on food packaging makes it hard for you to maintain a calorie surplus?\n",
      "\n"
     ]
    }
   ],
   "source": [
    "#accessing the 10 reflections that ChatGPT generated for the first struggle\n",
    "for reflection in  ann1['reflection_candidates'][0]:\n",
    "    print(f'- {reflection}\\n')"
   ]
  },
  {
   "cell_type": "code",
   "execution_count": 8,
   "id": "14c8ff61",
   "metadata": {},
   "outputs": [
    {
     "name": "stdout",
     "output_type": "stream",
     "text": [
      "When dieting I often find it hard to track my calories. This is because of the fact that not many food packages include this information and trying to track every calorie is a tedious task. It also does not help when trying to maintain a calorie surplus as all calories need to be tracked.\n",
      "\n",
      "\n",
      "1) So, do you mean that tracking your calorie intake is difficult because food packaging does not always have the information? \n",
      "   ➡️ ✅\n",
      "\n",
      "2) So, are you saying that it can be tedious to track every calorie consumed? \n",
      "   ➡️ ✅\n",
      "\n",
      "3) So, do you mean that you find it challenging to maintain a calorie surplus while dieting? \n",
      "   ➡️ ✅\n",
      "\n",
      "4) So, do you mean that tracking calories is important to you while dieting? \n",
      "   ➡️ ✅\n",
      "\n",
      "5) So, do you mean that the lack of calorie information on food packaging makes it hard for you to track your intake? \n",
      "   ➡️ ✅\n",
      "\n",
      "6) Do you mean that trying to track every calorie consumed is a tedious task? \n",
      "   ➡️ ✅\n",
      "\n",
      "7) Are you saying that it is difficult to maintain a calorie surplus while dieting because of the effort required to track calories? \n",
      "   ➡️ ✅\n",
      "\n",
      "8) Do you mean that you find it difficult to track your calorie intake due to the lack of information on food packaging? \n",
      "   ➡️ ✅\n",
      "\n",
      "9) Do you mean that the effort required to track every calorie consumed can make dieting more difficult? \n",
      "   ➡️ ✅\n",
      "\n",
      "10)  So, do you mean that the lack of calorie information on food packaging makes it hard for you to maintain a calorie surplus? \n",
      "   ➡️ ✅\n",
      "\n"
     ]
    }
   ],
   "source": [
    "#Printing the first struggle, then the reflections and how the annotator marked them:\n",
    "struggle = ann1['struggle'][0]\n",
    "reflections = ann1['reflection_candidates'][0]\n",
    "refl_annotations = ann1['reflection_annotation'][0]\n",
    "\n",
    "print(f'{struggle}\\n\\n')\n",
    "\n",
    "for index, refl, ann in zip(range(1,len(reflections)+1),\n",
    "                            reflections,\n",
    "                            refl_annotations):\n",
    "\n",
    "    print(f'{index}) {refl} \\n   ➡️ {\"✅\" if ann == \"Y\" else \"❌\"}\\n')\n",
    "    "
   ]
  }
 ],
 "metadata": {
  "kernelspec": {
   "display_name": "hai_coaching",
   "language": "python",
   "name": "hai_coaching"
  },
  "language_info": {
   "codemirror_mode": {
    "name": "ipython",
    "version": 3
   },
   "file_extension": ".py",
   "mimetype": "text/x-python",
   "name": "python",
   "nbconvert_exporter": "python",
   "pygments_lexer": "ipython3",
   "version": "3.10.12"
  }
 },
 "nbformat": 4,
 "nbformat_minor": 5
}
